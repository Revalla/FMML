{
  "nbformat": 4,
  "nbformat_minor": 0,
  "metadata": {
    "colab": {
      "provenance": [],
      "authorship_tag": "ABX9TyMNEO2hk/AfIcvimyYKlZLk",
      "include_colab_link": true
    },
    "kernelspec": {
      "name": "python3",
      "display_name": "Python 3"
    },
    "language_info": {
      "name": "python"
    }
  },
  "cells": [
    {
      "cell_type": "markdown",
      "metadata": {
        "id": "view-in-github",
        "colab_type": "text"
      },
      "source": [
        "<a href=\"https://colab.research.google.com/github/Revalla/FMML/blob/main/FMML_M5_PROJECT.ipynb\" target=\"_parent\"><img src=\"https://colab.research.google.com/assets/colab-badge.svg\" alt=\"Open In Colab\"/></a>"
      ]
    },
    {
      "cell_type": "code",
      "execution_count": 61,
      "metadata": {
        "id": "MgKqwO5gsW8X"
      },
      "outputs": [],
      "source": [
        "import pickle\n",
        "from tqdm import tqdm"
      ]
    },
    {
      "cell_type": "code",
      "source": [
        "import pickle\n",
        "\n",
        "# Open and load the pickle file\n",
        "try:\n",
        "    with open(\"./data/fingerDataSet.pickle\", \"rb\") as infile:\n",
        "        dat = pickle.load(infile, encoding=\"bytes\")  # encoding=\"bytes\" for compatibility\n",
        "    print(\"Data loaded successfully!\")\n",
        "    print(type(dat))  # Display the type of the loaded data\n",
        "    # Uncomment below to inspect the content if it's not too large\n",
        "    # print(dat)\n",
        "except FileNotFoundError:\n",
        "    print(\"Error: The file './data/fingerDataSet.pickle' was not found.\")\n",
        "except pickle.UnpicklingError:\n",
        "    print(\"Error: The file is not a valid pickle file or is corrupted.\")\n",
        "except Exception as e:\n",
        "    print(f\"An unexpected error occurred: {e}\")"
      ],
      "metadata": {
        "colab": {
          "base_uri": "https://localhost:8080/"
        },
        "id": "Efw_PaZks_5M",
        "outputId": "ac72f3d1-19fa-48dc-b496-0e401c6e14c0"
      },
      "execution_count": 62,
      "outputs": [
        {
          "output_type": "stream",
          "name": "stdout",
          "text": [
            "Error: The file './data/fingerDataSet.pickle' was not found.\n"
          ]
        }
      ]
    },
    {
      "cell_type": "code",
      "source": [
        "import numpy as np\n",
        "from PIL import Image, ImageDraw\n",
        "from IPython.display import display\n",
        "import matplotlib.pyplot as plt\n",
        "from matplotlib.pyplot import imshow"
      ],
      "metadata": {
        "id": "wB8eqvSrtDbq"
      },
      "execution_count": 63,
      "outputs": []
    },
    {
      "cell_type": "code",
      "source": [
        "\n",
        "def highlightPoints(img, pts, color = \"yellow\"):\n",
        "    draw = ImageDraw.Draw(img)\n",
        "    for y, x in pts:\n",
        "        draw.point((x, y), fill = color)"
      ],
      "metadata": {
        "id": "xh-5ihxfjoko"
      },
      "execution_count": 64,
      "outputs": []
    },
    {
      "cell_type": "code",
      "source": [
        "def print_item_info(dat, index):\n",
        "    \"\"\"\n",
        "    Prints the key, type, and shape (if applicable) of items in a dictionary.\n",
        "\n",
        "    Args:\n",
        "      dat: A list of dictionaries.\n",
        "      index: The index of the dictionary to examine.\n",
        "\n",
        "    Raises:\n",
        "      IndexError: If the index is out of bounds for the list.\n",
        "    \"\"\"\n",
        "\n",
        "    try:\n",
        "        imDat = dat[index]\n",
        "    except IndexError:\n",
        "        print(f\"Index {index} is out of bounds for the list.\")\n",
        "        return\n",
        "\n",
        "    if not isinstance(imDat, dict):\n",
        "        print(f\"Element at index {index} is not a dictionary.\")\n",
        "        return\n",
        "\n",
        "    for key, item in imDat.items():\n",
        "        if hasattr(item, 'shape'):\n",
        "            try:\n",
        "                print(key, type(item), item.shape)\n",
        "            except TypeError:\n",
        "                print(f\"Key: {key}, Type: {type(item)}, Shape: {getattr(item, 'shape', 'Not callable')}\")\n",
        "        else:\n",
        "            print(key, type(item), item)\n",
        "\n",
        "# Example usage:\n",
        "# Assuming 'dat' is a list of dictionaries\n",
        "dat = [\n",
        "    {'a': [1, 2, 3], 'b': {'x': 10}},\n",
        "    {'c': 'hello', 'd': np.array([1, 2])},  # Example with NumPy array\n",
        "]\n",
        "\n",
        "print_item_info(dat, 0)  # Print information for the first dictionary\n",
        "print_item_info(dat, 1)  # Print information for the second dictionary\n",
        "print_item_info(dat, 2)  # Attempt to access an out-of-bounds index"
      ],
      "metadata": {
        "colab": {
          "base_uri": "https://localhost:8080/"
        },
        "id": "BR1ZsfbWk1Rw",
        "outputId": "231c7641-b7ac-4aee-ee21-aa6102f0cd6e"
      },
      "execution_count": 65,
      "outputs": [
        {
          "output_type": "stream",
          "name": "stdout",
          "text": [
            "a <class 'list'> [1, 2, 3]\n",
            "b <class 'dict'> {'x': 10}\n",
            "c <class 'str'> hello\n",
            "d <class 'numpy.ndarray'> (2,)\n",
            "Index 2 is out of bounds for the list.\n"
          ]
        }
      ]
    },
    {
      "cell_type": "code",
      "source": [
        "dat[0].keys()"
      ],
      "metadata": {
        "colab": {
          "base_uri": "https://localhost:8080/"
        },
        "id": "zdABc-mOlPib",
        "outputId": "d15af712-a1e6-458e-9e57-40e001f2cd58"
      },
      "execution_count": 66,
      "outputs": [
        {
          "output_type": "execute_result",
          "data": {
            "text/plain": [
              "dict_keys(['a', 'b'])"
            ]
          },
          "metadata": {},
          "execution_count": 66
        }
      ]
    },
    {
      "cell_type": "code",
      "source": [
        "from PIL import Image\n",
        "import matplotlib.pyplot as plt\n",
        "\n",
        "def highlightPoints(img, points, color='red'):\n",
        "    \"\"\"\n",
        "    Highlights the given points on the image.\n",
        "\n",
        "    Args:\n",
        "        img: The PIL Image object.\n",
        "        points: A list of (x, y) tuples representing the points to highlight.\n",
        "        color: The color to use for highlighting (default: 'red').\n",
        "    \"\"\"\n",
        "    draw = ImageDraw.Draw(img)\n",
        "    for x, y in points:\n",
        "        draw.ellipse([(x-3, y-3), (x+3, y+3)], fill=color, outline=color)\n",
        "\n",
        "# Assuming 'dat' is a list of dictionaries\n",
        "if len(dat) > 32:  # Check if index 32 exists\n",
        "    ImDat = dat[32]\n",
        "    try:\n",
        "        img = Image.fromarray(ImDat[b'croppedImage'])\n",
        "        img = img.convert(mode=\"RGB\")\n",
        "\n",
        "        box = ImDat[b\"box\"]\n",
        "        min_x = min(box[:, 0])\n",
        "        min_y = min(box[:, 1])\n",
        "\n",
        "        newFingerPoints = [(y - min_y, x - min_x) for y, x in ImDat[b\"allFingerPoints\"]]\n",
        "\n",
        "        highlightPoints(img, newFingerPoints)\n",
        "        # highlightPoints(img, [(173, 211), (192, 253)])  # Uncomment to highlight additional points\n",
        "        # highlightPoints(img, box, \"blue\")\n",
        "\n",
        "        plt.imshow(img)\n",
        "        plt.gcf().set_dpi(70)\n",
        "        plt.show()\n",
        "\n",
        "    except KeyError as e:\n",
        "        print(f\"KeyError: {e}. The dictionary might not contain the expected keys.\")\n",
        "    except IndexError as e:\n",
        "        print(f\"IndexError: {e}. The index might be out of bounds.\")\n",
        "    except Exception as e:\n",
        "        print(f\"An unexpected error occurred: {e}\")\n",
        "else:\n",
        "    print(\"Index 32 is out of range. The list 'dat' only has\", len(dat), \"elements.\")"
      ],
      "metadata": {
        "colab": {
          "base_uri": "https://localhost:8080/"
        },
        "id": "cogzsQjSl9_5",
        "outputId": "a225864a-aa1e-4d41-d23f-9e18c6a0cec3"
      },
      "execution_count": 67,
      "outputs": [
        {
          "output_type": "stream",
          "name": "stdout",
          "text": [
            "Index 32 is out of range. The list 'dat' only has 2 elements.\n"
          ]
        }
      ]
    },
    {
      "cell_type": "code",
      "source": [
        "FILTER = 11"
      ],
      "metadata": {
        "id": "HBbmCwvWl_fc"
      },
      "execution_count": 68,
      "outputs": []
    },
    {
      "cell_type": "code",
      "source": [
        "class PointDat:\n",
        "    def __init__(self, imgAr, isFinger : bool, coor = None, idx = None):\n",
        "        self.imgAr = imgAr\n",
        "        self.isFinger = isFinger\n",
        "        self.idx = idx\n",
        "        self.coor = coor\n",
        "\n",
        "    def __str__(self):\n",
        "        return \"Coors {} on idx {}\".format(self.coor, self.idx)\n",
        "\n",
        "    def data(self):\n",
        "        return self.imgAr.reshape(-1)\n",
        "\n",
        "    def getPointGrid(self):\n",
        "        return self.imgAr\n",
        "\n",
        "    def getBoolean(self):\n",
        "        return self.isFinger\n",
        "\n",
        "    def getCoors(self):\n",
        "        return self.coor"
      ],
      "metadata": {
        "id": "TXLBLP4KmFXy"
      },
      "execution_count": 69,
      "outputs": []
    },
    {
      "cell_type": "code",
      "source": [
        "def highlightPoints(img, pts, color = \"yellow\"):\n",
        "    draw = ImageDraw.Draw(img)\n",
        "    for y, x in pts:\n",
        "        draw.point((x, y), fill = color)\n",
        "\n",
        "class ImgDat:\n",
        "    def __init__(self, dat, idx = None):\n",
        "        self.idx = idx\n",
        "        self.fullImage = dat[b\"image\"]\n",
        "        self.box = dat[b\"box\"]\n",
        "        self.topLeft = (int(min(dat[b\"box\"][:, 0])), int(min(dat[b\"box\"][:, 1])))\n",
        "        self.bottomRight = (int(max(dat[b\"box\"][:, 0])), int(max(dat[b\"box\"][:, 1])))\n",
        "\n",
        "        self.bitImage = dat[b\"image1bit\"][self.topLeft[0]:self.bottomRight[0], self.topLeft[1]:self.bottomRight[1]]\n",
        "        self.numFingers = dat[b\"numFingers\"]\n",
        "        self.boundImage = dat[b\"croppedImage\"]\n",
        "\n",
        "        self.fingerPoints = [(p1 - self.topLeft[0], p2 - self.topLeft[1]) for p1, p2 in dat[b\"allFingerPoints\"]]\n",
        "\n",
        "    def showImage(self):\n",
        "        img = Image.fromarray(self.boundImage)\n",
        "        img = img.convert(mode = \"RGB\")\n",
        "        return img\n",
        "\n",
        "    def showFingers(self):\n",
        "        COLS = [\"orange\", \"pink\", \"lime\"]\n",
        "        img = Image.fromarray(self.boundImage)\n",
        "        img = img.convert(mode = \"RGB\")\n",
        "        highlightPoints(img, self.fingerPoints, COLS[self.numFingers - 1])\n",
        "        return img\n",
        "\n",
        "    def showFullImage(self):\n",
        "        img = Image.fromarray(self.fullImage)\n",
        "        img = img.convert(mode = \"RGB\")\n",
        "        highlightPoints(img, self.box, \"yellow\")\n",
        "        return img\n",
        "\n",
        "    def makePointsDataset(self):\n",
        "        F = FILTER//2\n",
        "\n",
        "        collection = []\n",
        "        for r in range(F, self.bitImage.shape[0] - F):\n",
        "            for c in range(F, self.bitImage.shape[1] - F):\n",
        "#                 collection.append([self.bitImage[r-F:r+F, c-F:c+F], (r, c) in self.fingerPoints, (r, c)])\n",
        "                collection.append(PointDat(self.bitImage[r - F : r + F+1, c - F: c + F+1], (r, c) in self.fingerPoints, (r, c),\\\n",
        "                                            self.idx))\n",
        "\n",
        "        return np.array(collection, dtype=object)"
      ],
      "metadata": {
        "id": "EuN7JXs0mL0W"
      },
      "execution_count": 70,
      "outputs": []
    },
    {
      "cell_type": "code",
      "source": [
        "import matplotlib.pyplot as plt\n",
        "\n",
        "# Assuming 'dat' is a list of dictionaries and 'ImgDat' is a class or function\n",
        "# that handles image processing and visualization\n",
        "\n",
        "SampleIndices = [0, 10, 52, 30, 40]\n",
        "\n",
        "# Create a 5x3 grid of subplots with adjustable width ratios\n",
        "fig, axs = plt.subplots(5, 3, figsize=(8, 16), gridspec_kw={'width_ratios': [3, 1, 1]})\n",
        "\n",
        "for r in range(5):\n",
        "    # Check if the index is within the bounds of the list\n",
        "    if r < len(dat):\n",
        "        try:\n",
        "            p = ImgDat(dat[SampleIndices[r]], SampleIndices[r])\n",
        "            axs[r][0].imshow(p.showFullImage())\n",
        "            axs[r][1].imshow(p.showImage())\n",
        "            axs[r][2].imshow(p.showFingers())\n",
        "        except (IndexError, KeyError) as e:\n",
        "            print(f\"Error processing sample {SampleIndices[r]}: {e}\")\n",
        "            axs[r][0].text(0.5, 0.5, f\"Error: {e}\", ha='center', va='center', transform=axs[r][0].transAxes)\n",
        "            axs[r][1].axis('off')\n",
        "            axs[r][2].axis('off')\n",
        "    else:\n",
        "        axs[r][0].text(0.5, 0.5, \"Index out of range\", ha='center', va='center', transform=axs[r][0].transAxes)\n",
        "        axs[r][1].axis('off')\n",
        "        axs[r][2].axis('off')\n",
        "\n",
        "fig.set_dpi(100)\n",
        "plt.tight_layout()\n",
        "plt.show()"
      ],
      "metadata": {
        "colab": {
          "base_uri": "https://localhost:8080/",
          "height": 684
        },
        "id": "g5RpVQEhmmjG",
        "outputId": "7e49ee84-4a9f-4653-c157-52ca9fe840ed"
      },
      "execution_count": 71,
      "outputs": [
        {
          "output_type": "stream",
          "name": "stdout",
          "text": [
            "Error processing sample 0: b'image'\n",
            "Error processing sample 10: list index out of range\n"
          ]
        },
        {
          "output_type": "display_data",
          "data": {
            "text/plain": [
              "<Figure size 800x1600 with 15 Axes>"
            ],
            "image/png": "[encoded data removed]"
          },
          "metadata": {}
        }
      ]
    },
    {
      "cell_type": "code",
      "source": [
        "def makePointsDataset(self):\n",
        "    \"\"\"\n",
        "    Extracts finger points data from the dictionary, handling potential missing keys.\n",
        "\n",
        "    Returns:\n",
        "        A list of tuples representing the finger points (or None if keys are missing).\n",
        "    \"\"\"\n",
        "    try:\n",
        "        box = self.data[b\"box\"]\n",
        "        min_x = min(box[:, 0])\n",
        "        min_y = min(box[:, 1])\n",
        "        return [(y - min_y, x - min_x) for y, x in self.data[b\"allFingerPoints\"]]\n",
        "    except KeyError as e:\n",
        "        print(f\"KeyError: Missing key '{e}' in dictionary at index {self.index}.\")\n",
        "        return None  # Return None to indicate missing data"
      ],
      "metadata": {
        "id": "asb4SM4OiJpR"
      },
      "execution_count": 72,
      "outputs": []
    },
    {
      "cell_type": "code",
      "source": [
        "\n",
        "\n",
        "\n",
        "\n",
        "class Point:\n",
        "    def __init__(self, value, boolean_value):\n",
        "        self.value = value\n",
        "        self.boolean_value = boolean_value\n",
        "\n",
        "    def getBoolean(self):\n",
        "        return self.boolean_value\n",
        "\n",
        "# Create a list of Point objects\n",
        "d = [Point(1, True), Point(2, False), Point(3, True), Point(4, False)]\n",
        "\n",
        "# Create PosPoints and negPoints\n",
        "PosPoints = [point for point in d if point.getBoolean()]\n",
        "negPoints = [point for point in d if not point.getBoolean()]\n",
        "\n",
        "print(PosPoints)  # Output: [<__main__.Point object at 0x...>, <__main__.Point object at 0x...>]\n",
        "print(negPoints)  # Output: [<__main__.Point object at 0x...>, <__main__.Point object at 0x...>]"
      ],
      "metadata": {
        "colab": {
          "base_uri": "https://localhost:8080/"
        },
        "id": "LcNSHVSTh34V",
        "outputId": "bf1ce92d-b2e1-4a98-ab04-5a44f2924b14"
      },
      "execution_count": 73,
      "outputs": [
        {
          "output_type": "stream",
          "name": "stdout",
          "text": [
            "[<__main__.Point object at 0x7b7ed4339840>, <__main__.Point object at 0x7b7ed30c2470>]\n",
            "[<__main__.Point object at 0x7b7ed30c0b50>, <__main__.Point object at 0x7b7ed30c0310>]\n"
          ]
        }
      ]
    },
    {
      "cell_type": "code",
      "source": [
        "import numpy as np\n",
        "import matplotlib.pyplot as plt\n",
        "\n",
        "# Assuming 'posPoints' is a list or array of objects with 'getPointGrid()' method\n",
        "# Example definition for testing (remove or replace with actual data):\n",
        "class DummyPoint:\n",
        "    def __init__(self, name):\n",
        "        self.name = name\n",
        "\n",
        "    def getPointGrid(self):\n",
        "        # Return random grid data for illustration\n",
        "        return np.random.rand(15, 15)\n",
        "\n",
        "    def __str__(self):\n",
        "        return f\"Point-{self.name}\"\n",
        "\n",
        "# Example list of points\n",
        "posPoints = [DummyPoint(i) for i in range(10)]\n",
        "\n",
        "# Check if posPoints is empty\n",
        "if not posPoints:\n",
        "    raise ValueError(\"The 'posPoints' list is empty. Please provide valid points.\")\n",
        "\n",
        "# Set the random seed for reproducibility\n",
        "np.random.seed(0)\n",
        "\n",
        "# Create a 3x5 grid of subplots\n",
        "fig, axs = plt.subplots(3, 5, figsize=(15, 9))\n",
        "\n",
        "# Iterate through each subplot\n",
        "for ax in axs.flat:\n",
        "    try:\n",
        "        # Randomly select a point from posPoints\n",
        "        point = np.random.choice(posPoints)\n",
        "\n",
        "        # Get the point's grid data\n",
        "        grid_data = point.getPointGrid()\n",
        "\n",
        "        # Check if grid data is valid\n",
        "        if grid_data is not None:\n",
        "            # Display the grid data\n",
        "            ax.imshow(grid_data, cmap='viridis', interpolation='nearest')\n",
        "        else:\n",
        "            print(f\"Warning: Point {point} returned None from getPointGrid().\")\n",
        "            ax.axis('off')\n",
        "            continue\n",
        "\n",
        "        # Set the subplot title\n",
        "        ax.set_title(str(point))\n",
        "\n",
        "        # Dynamically set ticks based on grid size\n",
        "        rows, cols = grid_data.shape\n",
        "        ax.set_xticks([cols // 2])\n",
        "        ax.set_yticks([rows // 2])\n",
        "\n",
        "    except AttributeError:\n",
        "        print(f\"Warning: Point {point} does not have a 'getPointGrid()' method.\")\n",
        "        ax.axis('off')\n",
        "    except Exception as e:\n",
        "        print(f\"An error occurred: {e}\")\n",
        "        ax.axis('off')\n",
        "\n",
        "# Improve subplot spacing\n",
        "plt.tight_layout()\n",
        "\n",
        "# Show the plot\n",
        "plt.show()"
      ],
      "metadata": {
        "colab": {
          "base_uri": "https://localhost:8080/",
          "height": 203
        },
        "id": "bnhz9vFWj1Lm",
        "outputId": "18e52c73-dd65-4fff-d603-d3ce70493347"
      },
      "execution_count": 74,
      "outputs": [
        {
          "output_type": "display_data",
          "data": {
            "text/plain": [
              "<Figure size 1500x900 with 15 Axes>"
            ],
            "image/png": "[encoded data removed]"
          },
          "metadata": {}
        }
      ]
    },
    {
      "cell_type": "code",
      "source": [
        "def singleton(cls, *args, **kw):\n",
        "    instances = {}\n",
        "    def _singleton(*args, **kw):\n",
        "        if cls not in instances:\n",
        "            instances[cls] = cls(*args, **kw)\n",
        "        return instances[cls]\n",
        "    return _singleton\n",
        "\n",
        "@singleton\n",
        "class fingersFromPoints:\n",
        "\n",
        "    def findAdjacent(self, coordinates, coordinate, cluster):\n",
        "        distances = np.sqrt(np.sum((coordinates-coordinate)**2,1))\n",
        "        newCoordIndices = np.where(np.logical_and(distances<1.3, distances >0))[0]\n",
        "\n",
        "        for newCoordIndex in newCoordIndices:\n",
        "            if newCoordIndex not in cluster:\n",
        "                cluster.append(newCoordIndex)\n",
        "                self.findAdjacent(coordinates, coordinates[newCoordIndex, :], cluster)\n",
        "\n",
        "    def findClusters(self, coordinates):\n",
        "        allIndices = np.arange(len(coordinates))\n",
        "        clusters = []\n",
        "\n",
        "        while len(allIndices) > 0:\n",
        "\n",
        "            cluster = [allIndices[0]]\n",
        "            self.findAdjacent(coordinates, coordinates[allIndices[0],:], cluster)\n",
        "            allIndices = np.setdiff1d(allIndices, np.array((cluster)))\n",
        "            clusters.append(cluster)\n",
        "\n",
        "        return clusters\n",
        "\n",
        "    def findClusterCoors(self, coors):\n",
        "\n",
        "        clusters = self.findClusters(coors)\n",
        "        newClus = []\n",
        "        for c in clusters:\n",
        "            temp = []\n",
        "            for idx in c:\n",
        "                temp.append(coors[idx])\n",
        "            newClus.append(temp)\n",
        "        return newClus\n",
        "\n",
        "    def countFingers(self, clusters, minFingerSize = 15, fingerCutoff = 0.5):\n",
        "        sizes = []\n",
        "        for cluster in clusters:\n",
        "            sizes.append(len(cluster))\n",
        "\n",
        "        sizes = np.array(sizes)\n",
        "\n",
        "        if len(sizes) > 0:\n",
        "            if np.max(sizes) > minFingerSize:\n",
        "                fingerCluster = np.argmax(sizes)\n",
        "                numFingers = sum(sizes>fingerCutoff*sizes[fingerCluster])\n",
        "            else:\n",
        "                numFingers = 0\n",
        "        else:\n",
        "            numFingers = 0\n",
        "\n",
        "        return numFingers\n",
        "\n",
        "    def predictNumFingers(self, coors):\n",
        "        newCoors = np.array(coors)\n",
        "        clusters = self.findClusters(newCoors)\n",
        "        #print(clusters)\n",
        "        return self.countFingers(clusters)"
      ],
      "metadata": {
        "id": "DCl6mpSyj40V"
      },
      "execution_count": 75,
      "outputs": []
    },
    {
      "cell_type": "code",
      "source": [
        "# Assuming 'dat' needs to be defined or loaded before use\n",
        "# Example definition for 'dat' (replace this with actual data loading logic):\n",
        "# dat should be a list or array of data objects compatible with ImgDat initialization\n",
        "dat = [...]  # Replace with your actual data\n",
        "\n",
        "# Initialize the prediction object\n",
        "try:\n",
        "    predObj = fingersFromPoints()\n",
        "except Exception as e:\n",
        "    raise RuntimeError(f\"Error initializing 'fingersFromPoints': {e}\")\n",
        "\n",
        "# Check if the index 52 exists in 'dat'\n",
        "if len(dat) > 52:\n",
        "    try:\n",
        "        # Initialize the image object\n",
        "        imgObj = ImgDat(dat[52], 52)\n",
        "    except Exception as e:\n",
        "        raise RuntimeError(f\"Error initializing 'ImgDat' for index 52: {e}\")\n",
        "\n",
        "    # Ensure required attributes exist\n",
        "    if not hasattr(imgObj, 'fingerPoints') or not hasattr(imgObj, 'numFingers'):\n",
        "        raise AttributeError(\"The 'ImgDat' object is missing required attributes: 'fingerPoints' and/or 'numFingers'.\")\n",
        "\n",
        "    # Predict the number of fingers and verify the result\n",
        "    try:\n",
        "        predicted_fingers = predObj.predictNumFingers(imgObj.fingerPoints)\n",
        "        actual_fingers = imgObj.numFingers\n",
        "\n",
        "        assert predicted_fingers == actual_fingers, (\n",
        "            f\"Clustering has failed for the data image with index {imgObj.idx}. \"\n",
        "            f\"Predicted: {predicted_fingers}, Actual: {actual_fingers}.\"\n",
        "        )\n",
        "        print(\"Prediction is correct.\")\n",
        "\n",
        "    except AssertionError as e:\n",
        "        print(f\"AssertionError: {e}\")\n",
        "\n",
        "    except Exception as e:\n",
        "        raise RuntimeError(f\"Error during prediction or validation: {e}\")\n",
        "else:\n",
        "    print(f\"Index 52 is out of range. The list 'dat' only has {len(dat)} elements.\")"
      ],
      "metadata": {
        "colab": {
          "base_uri": "https://localhost:8080/"
        },
        "id": "8Gh1rkOblt08",
        "outputId": "15215988-f34f-4346-d88d-4624a864266b"
      },
      "execution_count": 76,
      "outputs": [
        {
          "output_type": "stream",
          "name": "stdout",
          "text": [
            "Index 52 is out of range. The list 'dat' only has 1 elements.\n"
          ]
        }
      ]
    },
    {
      "cell_type": "code",
      "source": [
        "# Initialize counters and a list to store incorrect predictions\n",
        "cor, tot = 0, 0\n",
        "incor = []\n",
        "\n",
        "# Iterate through the dataset\n",
        "for idx, d in enumerate(dat):\n",
        "    try:\n",
        "        # Create an ImgDat object for the current data point\n",
        "        imgObj = ImgDat(d, idx)\n",
        "\n",
        "        # Predict the number of fingers and compare with the ground truth\n",
        "        if imgObj.numFingers == predObj.predictNumFingers(imgObj.fingerPoints):\n",
        "            cor += 1\n",
        "        else:\n",
        "            incor.append(imgObj)\n",
        "\n",
        "        tot += 1  # Increment the total counter\n",
        "    except Exception as e:\n",
        "        print(f\"Error processing data at index {idx}: {e}\")\n",
        "\n",
        "# Calculate and print accuracy\n",
        "if tot > 0:\n",
        "    accuracy = cor * 100 / tot\n",
        "    print(f\"The clustering is correct for: {accuracy:.2f}% of the data points' ground truth.\")\n",
        "else:\n",
        "    print(\"No data points were processed.\")"
      ],
      "metadata": {
        "colab": {
          "base_uri": "https://localhost:8080/"
        },
        "id": "AAwKAO2FmAn6",
        "outputId": "dee8717a-3495-4042-e7df-e784c598f9de"
      },
      "execution_count": 77,
      "outputs": [
        {
          "output_type": "stream",
          "name": "stdout",
          "text": [
            "Error processing data at index 0: 'ellipsis' object is not subscriptable\n",
            "No data points were processed.\n"
          ]
        }
      ]
    },
    {
      "cell_type": "code",
      "source": [
        "print(len(incor))"
      ],
      "metadata": {
        "colab": {
          "base_uri": "https://localhost:8080/"
        },
        "id": "dH3NPmYCmDE-",
        "outputId": "8cb87271-c3ea-4270-9396-9993324d16d2"
      },
      "execution_count": 78,
      "outputs": [
        {
          "output_type": "stream",
          "name": "stdout",
          "text": [
            "0\n"
          ]
        }
      ]
    },
    {
      "cell_type": "code",
      "source": [
        "fig, axs = plt.subplots(2, 3, figsize = (12, 10))\n",
        "incorIndices = []\n",
        "for idx, (ax, imObj) in enumerate(zip(axs, incor)):\n",
        "    print(\"Incorrect for {}\".format(imObj.idx))\n",
        "    incorIndices.append(imObj.idx)\n",
        "    ax[0].imshow(imObj.showImage())\n",
        "    ax[1].imshow(imObj.showFingers())\n",
        "    img = imObj.showImage()\n",
        "    clusters = predObj.findClusterCoors(np.array(imObj.fingerPoints))\n",
        "    COLS = [\"green\", \"red\", \"blue\", \"yello\", \"orange\", \"pink\"]\n",
        "    for idx2, c in enumerate(clusters):\n",
        "        highlightPoints(img, c, COLS[idx2])\n",
        "    ax[2].imshow(img)"
      ],
      "metadata": {
        "colab": {
          "base_uri": "https://localhost:8080/",
          "height": 268
        },
        "id": "ScdpDusHmLbE",
        "outputId": "39a51c6d-c9a6-423d-a771-fd9a4c7da9e2"
      },
      "execution_count": 79,
      "outputs": [
        {
          "output_type": "display_data",
          "data": {
            "text/plain": [
              "<Figure size 1200x1000 with 6 Axes>"
            ],
            "image/png": "[encoded data removed]"
          },
          "metadata": {}
        }
      ]
    },
    {
      "cell_type": "code",
      "source": [
        "\n",
        "\n",
        "\n",
        "\n",
        "\n",
        "\n",
        "\n",
        "from sklearn.model_selection import train_test_split"
      ],
      "metadata": {
        "id": "IRsA35MbmVr0"
      },
      "execution_count": 83,
      "outputs": []
    },
    {
      "cell_type": "code",
      "source": [
        "from sklearn.model_selection import train_test_split\n",
        "\n",
        "# Example dataset (Replace this with your actual `allImg` dataset)\n",
        "# allImg = [...]  # Ensure allImg is a valid list or array\n",
        "\n",
        "# Check if the dataset has enough samples\n",
        "if len(allImg) > 1:  # At least 2 samples are needed for a split\n",
        "    # Dynamically set `test_size` to 20% or at least 1 sample\n",
        "    test_size = max(1, int(0.2 * len(allImg)))  # Ensure at least 1 test sample\n",
        "\n",
        "    # Split the dataset\n",
        "    trainImg, testImg = train_test_split(allImg, test_size=test_size, random_state=0)\n",
        "    print(f\"Training set size: {len(trainImg)}, Testing set size: {len(testImg)}\")\n",
        "else:\n",
        "    print(f\"Dataset is too small to split. It contains only {len(allImg)} sample(s).\")\n",
        "    trainImg, testImg = allImg, []  # Use the entire dataset for training, no test set"
      ],
      "metadata": {
        "colab": {
          "base_uri": "https://localhost:8080/"
        },
        "id": "2PLWyMZPnWAz",
        "outputId": "66cff073-be7a-480f-b9b5-f7552488dafd"
      },
      "execution_count": 84,
      "outputs": [
        {
          "output_type": "stream",
          "name": "stdout",
          "text": [
            "Dataset is too small to split. It contains only 1 sample(s).\n"
          ]
        }
      ]
    },
    {
      "cell_type": "code",
      "source": [
        "import numpy as np\n",
        "import matplotlib.pyplot as plt\n",
        "from tqdm import tqdm\n",
        "\n",
        "# Assuming 'dat' is a list of dictionaries and 'fingersFromPoints' is a function\n",
        "\n",
        "def makePointsDataset(data):\n",
        "    \"\"\"\n",
        "    Extracts finger points data from the dictionary.\n",
        "\n",
        "    Args:\n",
        "        data: The dictionary containing the image and related data.\n",
        "\n",
        "    Returns:\n",
        "        A list of tuples representing the finger points.\n",
        "    \"\"\"\n",
        "    try:\n",
        "        box = data.get(b\"box\", None)  # Use get() with default value\n",
        "        if box is None:\n",
        "            return None\n",
        "\n",
        "        min_x = min(box[:, 0])\n",
        "        min_y = min(box[:, 1])\n",
        "        return [(y - min_y, x - min_x) for y, x in data.get(b\"allFingerPoints\", [])]  # Use get() with default value\n",
        "    except (KeyError, IndexError, TypeError) as e:\n",
        "        print(f\"Error processing data: {e}\")\n",
        "        return None\n",
        "\n",
        "if len(dat) > 52:\n",
        "    try:\n",
        "        img_data = dat[52]\n",
        "        points = makePointsDataset(img_data)\n",
        "\n",
        "        if points is not None:\n",
        "            PredObj = fingersFromPoints()\n",
        "            try:\n",
        "                assert PredObj.predictNumFingers(points) == imgObj.numFingers, \\\n",
        "                    f\"Clustering has failed for the dataimage with index 52. \\\n",
        "                    Something is wrong! {PredObj.predictNumFingers(points)} is being predicted instead of {imgObj.numFingers}.\"\n",
        "            except AssertionError as e:\n",
        "                print(f\"AssertionError: {e}\")\n",
        "\n",
        "    except IndexError:\n",
        "        print(\"Index 52 is out of range. The list 'dat' only has\", len(dat), \"elements.\")"
      ],
      "metadata": {
        "id": "pFQbH-w2p2Rr"
      },
      "execution_count": 85,
      "outputs": []
    },
    {
      "cell_type": "code",
      "source": [
        "X_train, y_train = np.array([p.data() for p in trainPoints]), np.array([p.getBoolean() for p in trainPoints])"
      ],
      "metadata": {
        "id": "thLE-x08p3sv"
      },
      "execution_count": 86,
      "outputs": []
    },
    {
      "cell_type": "code",
      "source": [
        "X_train.shape, y_train.shape"
      ],
      "metadata": {
        "colab": {
          "base_uri": "https://localhost:8080/"
        },
        "id": "06Vso9DIp8K4",
        "outputId": "7a04ce16-2bda-412f-ee4e-fab62f2f178c"
      },
      "execution_count": 87,
      "outputs": [
        {
          "output_type": "execute_result",
          "data": {
            "text/plain": [
              "((0,), (0,))"
            ]
          },
          "metadata": {},
          "execution_count": 87
        }
      ]
    },
    {
      "cell_type": "code",
      "source": [
        "((70206, 121), (70206,))"
      ],
      "metadata": {
        "colab": {
          "base_uri": "https://localhost:8080/"
        },
        "id": "YtIoFHv7qsUW",
        "outputId": "759951e5-2dc4-4394-873e-abcb14da26ae"
      },
      "execution_count": 88,
      "outputs": [
        {
          "output_type": "execute_result",
          "data": {
            "text/plain": [
              "((70206, 121), (70206,))"
            ]
          },
          "metadata": {},
          "execution_count": 88
        }
      ]
    },
    {
      "cell_type": "code",
      "source": [
        "from sklearn.tree import DecisionTreeClassifier\n",
        "clf = DecisionTreeClassifier(random_state = 0, max_depth = 3)"
      ],
      "metadata": {
        "id": "lsiRKjJLqBRm"
      },
      "execution_count": 89,
      "outputs": []
    },
    {
      "cell_type": "code",
      "source": [
        "from sklearn.linear_model import LogisticRegression\n",
        "\n",
        "# Sample training data\n",
        "X_train = np.array([[1, 2], [3, 4], [5, 6]])\n",
        "y_train = np.array([0, 1, 0])\n",
        "\n",
        "# Create a LogisticRegression classifier\n",
        "clf = LogisticRegression()\n",
        "\n",
        "# Train the classifier\n",
        "clf.fit(X_train, y_train)"
      ],
      "metadata": {
        "colab": {
          "base_uri": "https://localhost:8080/",
          "height": 80
        },
        "id": "agxKT8qLqki-",
        "outputId": "5319f0b1-46d9-446e-b1e5-beee6ba3419b"
      },
      "execution_count": 90,
      "outputs": [
        {
          "output_type": "execute_result",
          "data": {
            "text/plain": [
              "LogisticRegression()"
            ],
            "text/html": [
              "<style>#sk-container-id-2 {\n",
              "  /* Definition of color scheme common for light and dark mode */\n",
              "  --sklearn-color-text: #000;\n",
              "  --sklearn-color-text-muted: #666;\n",
              "  --sklearn-color-line: gray;\n",
              "  /* Definition of color scheme for unfitted estimators */\n",
              "  --sklearn-color-unfitted-level-0: #fff5e6;\n",
              "  --sklearn-color-unfitted-level-1: #f6e4d2;\n",
              "  --sklearn-color-unfitted-level-2: #ffe0b3;\n",
              "  --sklearn-color-unfitted-level-3: chocolate;\n",
              "  /* Definition of color scheme for fitted estimators */\n",
              "  --sklearn-color-fitted-level-0: #f0f8ff;\n",
              "  --sklearn-color-fitted-level-1: #d4ebff;\n",
              "  --sklearn-color-fitted-level-2: #b3dbfd;\n",
              "  --sklearn-color-fitted-level-3: cornflowerblue;\n",
              "\n",
              "  /* Specific color for light theme */\n",
              "  --sklearn-color-text-on-default-background: var(--sg-text-color, var(--theme-code-foreground, var(--jp-content-font-color1, black)));\n",
              "  --sklearn-color-background: var(--sg-background-color, var(--theme-background, var(--jp-layout-color0, white)));\n",
              "  --sklearn-color-border-box: var(--sg-text-color, var(--theme-code-foreground, var(--jp-content-font-color1, black)));\n",
              "  --sklearn-color-icon: #696969;\n",
              "\n",
              "  @media (prefers-color-scheme: dark) {\n",
              "    /* Redefinition of color scheme for dark theme */\n",
              "    --sklearn-color-text-on-default-background: var(--sg-text-color, var(--theme-code-foreground, var(--jp-content-font-color1, white)));\n",
              "    --sklearn-color-background: var(--sg-background-color, var(--theme-background, var(--jp-layout-color0, #111)));\n",
              "    --sklearn-color-border-box: var(--sg-text-color, var(--theme-code-foreground, var(--jp-content-font-color1, white)));\n",
              "    --sklearn-color-icon: #878787;\n",
              "  }\n",
              "}\n",
              "\n",
              "#sk-container-id-2 {\n",
              "  color: var(--sklearn-color-text);\n",
              "}\n",
              "\n",
              "#sk-container-id-2 pre {\n",
              "  padding: 0;\n",
              "}\n",
              "\n",
              "#sk-container-id-2 input.sk-hidden--visually {\n",
              "  border: 0;\n",
              "  clip: rect(1px 1px 1px 1px);\n",
              "  clip: rect(1px, 1px, 1px, 1px);\n",
              "  height: 1px;\n",
              "  margin: -1px;\n",
              "  overflow: hidden;\n",
              "  padding: 0;\n",
              "  position: absolute;\n",
              "  width: 1px;\n",
              "}\n",
              "\n",
              "#sk-container-id-2 div.sk-dashed-wrapped {\n",
              "  border: 1px dashed var(--sklearn-color-line);\n",
              "  margin: 0 0.4em 0.5em 0.4em;\n",
              "  box-sizing: border-box;\n",
              "  padding-bottom: 0.4em;\n",
              "  background-color: var(--sklearn-color-background);\n",
              "}\n",
              "\n",
              "#sk-container-id-2 div.sk-container {\n",
              "  /* jupyter's `normalize.less` sets `[hidden] { display: none; }`\n",
              "     but bootstrap.min.css set `[hidden] { display: none !important; }`\n",
              "     so we also need the `!important` here to be able to override the\n",
              "     default hidden behavior on the sphinx rendered scikit-learn.org.\n",
              "     See: https://github.com/scikit-learn/scikit-learn/issues/21755 */\n",
              "  display: inline-block !important;\n",
              "  position: relative;\n",
              "}\n",
              "\n",
              "#sk-container-id-2 div.sk-text-repr-fallback {\n",
              "  display: none;\n",
              "}\n",
              "\n",
              "div.sk-parallel-item,\n",
              "div.sk-serial,\n",
              "div.sk-item {\n",
              "  /* draw centered vertical line to link estimators */\n",
              "  background-image: linear-gradient(var(--sklearn-color-text-on-default-background), var(--sklearn-color-text-on-default-background));\n",
              "  background-size: 2px 100%;\n",
              "  background-repeat: no-repeat;\n",
              "  background-position: center center;\n",
              "}\n",
              "\n",
              "/* Parallel-specific style estimator block */\n",
              "\n",
              "#sk-container-id-2 div.sk-parallel-item::after {\n",
              "  content: \"\";\n",
              "  width: 100%;\n",
              "  border-bottom: 2px solid var(--sklearn-color-text-on-default-background);\n",
              "  flex-grow: 1;\n",
              "}\n",
              "\n",
              "#sk-container-id-2 div.sk-parallel {\n",
              "  display: flex;\n",
              "  align-items: stretch;\n",
              "  justify-content: center;\n",
              "  background-color: var(--sklearn-color-background);\n",
              "  position: relative;\n",
              "}\n",
              "\n",
              "#sk-container-id-2 div.sk-parallel-item {\n",
              "  display: flex;\n",
              "  flex-direction: column;\n",
              "}\n",
              "\n",
              "#sk-container-id-2 div.sk-parallel-item:first-child::after {\n",
              "  align-self: flex-end;\n",
              "  width: 50%;\n",
              "}\n",
              "\n",
              "#sk-container-id-2 div.sk-parallel-item:last-child::after {\n",
              "  align-self: flex-start;\n",
              "  width: 50%;\n",
              "}\n",
              "\n",
              "#sk-container-id-2 div.sk-parallel-item:only-child::after {\n",
              "  width: 0;\n",
              "}\n",
              "\n",
              "/* Serial-specific style estimator block */\n",
              "\n",
              "#sk-container-id-2 div.sk-serial {\n",
              "  display: flex;\n",
              "  flex-direction: column;\n",
              "  align-items: center;\n",
              "  background-color: var(--sklearn-color-background);\n",
              "  padding-right: 1em;\n",
              "  padding-left: 1em;\n",
              "}\n",
              "\n",
              "\n",
              "/* Toggleable style: style used for estimator/Pipeline/ColumnTransformer box that is\n",
              "clickable and can be expanded/collapsed.\n",
              "- Pipeline and ColumnTransformer use this feature and define the default style\n",
              "- Estimators will overwrite some part of the style using the `sk-estimator` class\n",
              "*/\n",
              "\n",
              "/* Pipeline and ColumnTransformer style (default) */\n",
              "\n",
              "#sk-container-id-2 div.sk-toggleable {\n",
              "  /* Default theme specific background. It is overwritten whether we have a\n",
              "  specific estimator or a Pipeline/ColumnTransformer */\n",
              "  background-color: var(--sklearn-color-background);\n",
              "}\n",
              "\n",
              "/* Toggleable label */\n",
              "#sk-container-id-2 label.sk-toggleable__label {\n",
              "  cursor: pointer;\n",
              "  display: flex;\n",
              "  width: 100%;\n",
              "  margin-bottom: 0;\n",
              "  padding: 0.5em;\n",
              "  box-sizing: border-box;\n",
              "  text-align: center;\n",
              "  align-items: start;\n",
              "  justify-content: space-between;\n",
              "  gap: 0.5em;\n",
              "}\n",
              "\n",
              "#sk-container-id-2 label.sk-toggleable__label .caption {\n",
              "  font-size: 0.6rem;\n",
              "  font-weight: lighter;\n",
              "  color: var(--sklearn-color-text-muted);\n",
              "}\n",
              "\n",
              "#sk-container-id-2 label.sk-toggleable__label-arrow:before {\n",
              "  /* Arrow on the left of the label */\n",
              "  content: \"▸\";\n",
              "  float: left;\n",
              "  margin-right: 0.25em;\n",
              "  color: var(--sklearn-color-icon);\n",
              "}\n",
              "\n",
              "#sk-container-id-2 label.sk-toggleable__label-arrow:hover:before {\n",
              "  color: var(--sklearn-color-text);\n",
              "}\n",
              "\n",
              "/* Toggleable content - dropdown */\n",
              "\n",
              "#sk-container-id-2 div.sk-toggleable__content {\n",
              "  max-height: 0;\n",
              "  max-width: 0;\n",
              "  overflow: hidden;\n",
              "  text-align: left;\n",
              "  /* unfitted */\n",
              "  background-color: var(--sklearn-color-unfitted-level-0);\n",
              "}\n",
              "\n",
              "#sk-container-id-2 div.sk-toggleable__content.fitted {\n",
              "  /* fitted */\n",
              "  background-color: var(--sklearn-color-fitted-level-0);\n",
              "}\n",
              "\n",
              "#sk-container-id-2 div.sk-toggleable__content pre {\n",
              "  margin: 0.2em;\n",
              "  border-radius: 0.25em;\n",
              "  color: var(--sklearn-color-text);\n",
              "  /* unfitted */\n",
              "  background-color: var(--sklearn-color-unfitted-level-0);\n",
              "}\n",
              "\n",
              "#sk-container-id-2 div.sk-toggleable__content.fitted pre {\n",
              "  /* unfitted */\n",
              "  background-color: var(--sklearn-color-fitted-level-0);\n",
              "}\n",
              "\n",
              "#sk-container-id-2 input.sk-toggleable__control:checked~div.sk-toggleable__content {\n",
              "  /* Expand drop-down */\n",
              "  max-height: 200px;\n",
              "  max-width: 100%;\n",
              "  overflow: auto;\n",
              "}\n",
              "\n",
              "#sk-container-id-2 input.sk-toggleable__control:checked~label.sk-toggleable__label-arrow:before {\n",
              "  content: \"▾\";\n",
              "}\n",
              "\n",
              "/* Pipeline/ColumnTransformer-specific style */\n",
              "\n",
              "#sk-container-id-2 div.sk-label input.sk-toggleable__control:checked~label.sk-toggleable__label {\n",
              "  color: var(--sklearn-color-text);\n",
              "  background-color: var(--sklearn-color-unfitted-level-2);\n",
              "}\n",
              "\n",
              "#sk-container-id-2 div.sk-label.fitted input.sk-toggleable__control:checked~label.sk-toggleable__label {\n",
              "  background-color: var(--sklearn-color-fitted-level-2);\n",
              "}\n",
              "\n",
              "/* Estimator-specific style */\n",
              "\n",
              "/* Colorize estimator box */\n",
              "#sk-container-id-2 div.sk-estimator input.sk-toggleable__control:checked~label.sk-toggleable__label {\n",
              "  /* unfitted */\n",
              "  background-color: var(--sklearn-color-unfitted-level-2);\n",
              "}\n",
              "\n",
              "#sk-container-id-2 div.sk-estimator.fitted input.sk-toggleable__control:checked~label.sk-toggleable__label {\n",
              "  /* fitted */\n",
              "  background-color: var(--sklearn-color-fitted-level-2);\n",
              "}\n",
              "\n",
              "#sk-container-id-2 div.sk-label label.sk-toggleable__label,\n",
              "#sk-container-id-2 div.sk-label label {\n",
              "  /* The background is the default theme color */\n",
              "  color: var(--sklearn-color-text-on-default-background);\n",
              "}\n",
              "\n",
              "/* On hover, darken the color of the background */\n",
              "#sk-container-id-2 div.sk-label:hover label.sk-toggleable__label {\n",
              "  color: var(--sklearn-color-text);\n",
              "  background-color: var(--sklearn-color-unfitted-level-2);\n",
              "}\n",
              "\n",
              "/* Label box, darken color on hover, fitted */\n",
              "#sk-container-id-2 div.sk-label.fitted:hover label.sk-toggleable__label.fitted {\n",
              "  color: var(--sklearn-color-text);\n",
              "  background-color: var(--sklearn-color-fitted-level-2);\n",
              "}\n",
              "\n",
              "/* Estimator label */\n",
              "\n",
              "#sk-container-id-2 div.sk-label label {\n",
              "  font-family: monospace;\n",
              "  font-weight: bold;\n",
              "  display: inline-block;\n",
              "  line-height: 1.2em;\n",
              "}\n",
              "\n",
              "#sk-container-id-2 div.sk-label-container {\n",
              "  text-align: center;\n",
              "}\n",
              "\n",
              "/* Estimator-specific */\n",
              "#sk-container-id-2 div.sk-estimator {\n",
              "  font-family: monospace;\n",
              "  border: 1px dotted var(--sklearn-color-border-box);\n",
              "  border-radius: 0.25em;\n",
              "  box-sizing: border-box;\n",
              "  margin-bottom: 0.5em;\n",
              "  /* unfitted */\n",
              "  background-color: var(--sklearn-color-unfitted-level-0);\n",
              "}\n",
              "\n",
              "#sk-container-id-2 div.sk-estimator.fitted {\n",
              "  /* fitted */\n",
              "  background-color: var(--sklearn-color-fitted-level-0);\n",
              "}\n",
              "\n",
              "/* on hover */\n",
              "#sk-container-id-2 div.sk-estimator:hover {\n",
              "  /* unfitted */\n",
              "  background-color: var(--sklearn-color-unfitted-level-2);\n",
              "}\n",
              "\n",
              "#sk-container-id-2 div.sk-estimator.fitted:hover {\n",
              "  /* fitted */\n",
              "  background-color: var(--sklearn-color-fitted-level-2);\n",
              "}\n",
              "\n",
              "/* Specification for estimator info (e.g. \"i\" and \"?\") */\n",
              "\n",
              "/* Common style for \"i\" and \"?\" */\n",
              "\n",
              ".sk-estimator-doc-link,\n",
              "a:link.sk-estimator-doc-link,\n",
              "a:visited.sk-estimator-doc-link {\n",
              "  float: right;\n",
              "  font-size: smaller;\n",
              "  line-height: 1em;\n",
              "  font-family: monospace;\n",
              "  background-color: var(--sklearn-color-background);\n",
              "  border-radius: 1em;\n",
              "  height: 1em;\n",
              "  width: 1em;\n",
              "  text-decoration: none !important;\n",
              "  margin-left: 0.5em;\n",
              "  text-align: center;\n",
              "  /* unfitted */\n",
              "  border: var(--sklearn-color-unfitted-level-1) 1pt solid;\n",
              "  color: var(--sklearn-color-unfitted-level-1);\n",
              "}\n",
              "\n",
              ".sk-estimator-doc-link.fitted,\n",
              "a:link.sk-estimator-doc-link.fitted,\n",
              "a:visited.sk-estimator-doc-link.fitted {\n",
              "  /* fitted */\n",
              "  border: var(--sklearn-color-fitted-level-1) 1pt solid;\n",
              "  color: var(--sklearn-color-fitted-level-1);\n",
              "}\n",
              "\n",
              "/* On hover */\n",
              "div.sk-estimator:hover .sk-estimator-doc-link:hover,\n",
              ".sk-estimator-doc-link:hover,\n",
              "div.sk-label-container:hover .sk-estimator-doc-link:hover,\n",
              ".sk-estimator-doc-link:hover {\n",
              "  /* unfitted */\n",
              "  background-color: var(--sklearn-color-unfitted-level-3);\n",
              "  color: var(--sklearn-color-background);\n",
              "  text-decoration: none;\n",
              "}\n",
              "\n",
              "div.sk-estimator.fitted:hover .sk-estimator-doc-link.fitted:hover,\n",
              ".sk-estimator-doc-link.fitted:hover,\n",
              "div.sk-label-container:hover .sk-estimator-doc-link.fitted:hover,\n",
              ".sk-estimator-doc-link.fitted:hover {\n",
              "  /* fitted */\n",
              "  background-color: var(--sklearn-color-fitted-level-3);\n",
              "  color: var(--sklearn-color-background);\n",
              "  text-decoration: none;\n",
              "}\n",
              "\n",
              "/* Span, style for the box shown on hovering the info icon */\n",
              ".sk-estimator-doc-link span {\n",
              "  display: none;\n",
              "  z-index: 9999;\n",
              "  position: relative;\n",
              "  font-weight: normal;\n",
              "  right: .2ex;\n",
              "  padding: .5ex;\n",
              "  margin: .5ex;\n",
              "  width: min-content;\n",
              "  min-width: 20ex;\n",
              "  max-width: 50ex;\n",
              "  color: var(--sklearn-color-text);\n",
              "  box-shadow: 2pt 2pt 4pt #999;\n",
              "  /* unfitted */\n",
              "  background: var(--sklearn-color-unfitted-level-0);\n",
              "  border: .5pt solid var(--sklearn-color-unfitted-level-3);\n",
              "}\n",
              "\n",
              ".sk-estimator-doc-link.fitted span {\n",
              "  /* fitted */\n",
              "  background: var(--sklearn-color-fitted-level-0);\n",
              "  border: var(--sklearn-color-fitted-level-3);\n",
              "}\n",
              "\n",
              ".sk-estimator-doc-link:hover span {\n",
              "  display: block;\n",
              "}\n",
              "\n",
              "/* \"?\"-specific style due to the `<a>` HTML tag */\n",
              "\n",
              "#sk-container-id-2 a.estimator_doc_link {\n",
              "  float: right;\n",
              "  font-size: 1rem;\n",
              "  line-height: 1em;\n",
              "  font-family: monospace;\n",
              "  background-color: var(--sklearn-color-background);\n",
              "  border-radius: 1rem;\n",
              "  height: 1rem;\n",
              "  width: 1rem;\n",
              "  text-decoration: none;\n",
              "  /* unfitted */\n",
              "  color: var(--sklearn-color-unfitted-level-1);\n",
              "  border: var(--sklearn-color-unfitted-level-1) 1pt solid;\n",
              "}\n",
              "\n",
              "#sk-container-id-2 a.estimator_doc_link.fitted {\n",
              "  /* fitted */\n",
              "  border: var(--sklearn-color-fitted-level-1) 1pt solid;\n",
              "  color: var(--sklearn-color-fitted-level-1);\n",
              "}\n",
              "\n",
              "/* On hover */\n",
              "#sk-container-id-2 a.estimator_doc_link:hover {\n",
              "  /* unfitted */\n",
              "  background-color: var(--sklearn-color-unfitted-level-3);\n",
              "  color: var(--sklearn-color-background);\n",
              "  text-decoration: none;\n",
              "}\n",
              "\n",
              "#sk-container-id-2 a.estimator_doc_link.fitted:hover {\n",
              "  /* fitted */\n",
              "  background-color: var(--sklearn-color-fitted-level-3);\n",
              "}\n",
              "</style><div id=\"sk-container-id-2\" class=\"sk-top-container\"><div class=\"sk-text-repr-fallback\"><pre>LogisticRegression()</pre><b>In a Jupyter environment, please rerun this cell to show the HTML representation or trust the notebook. <br />On GitHub, the HTML representation is unable to render, please try loading this page with nbviewer.org.</b></div><div class=\"sk-container\" hidden><div class=\"sk-item\"><div class=\"sk-estimator fitted sk-toggleable\"><input class=\"sk-toggleable__control sk-hidden--visually\" id=\"sk-estimator-id-2\" type=\"checkbox\" checked><label for=\"sk-estimator-id-2\" class=\"sk-toggleable__label fitted sk-toggleable__label-arrow\"><div><div>LogisticRegression</div></div><div><a class=\"sk-estimator-doc-link fitted\" rel=\"noreferrer\" target=\"_blank\" href=\"https://scikit-learn.org/1.6/modules/generated/sklearn.linear_model.LogisticRegression.html\">?<span>Documentation for LogisticRegression</span></a><span class=\"sk-estimator-doc-link fitted\">i<span>Fitted</span></span></div></label><div class=\"sk-toggleable__content fitted\"><pre>LogisticRegression()</pre></div> </div></div></div></div>"
            ]
          },
          "metadata": {},
          "execution_count": 90
        }
      ]
    },
    {
      "cell_type": "code",
      "source": [
        "#Training Error in terms of points:\n",
        "from sklearn.metrics import accuracy_score\n",
        "print(\"{:.2f} % of the training points classified correctly\".format(100*accuracy_score(clf.predict(X_train), y_train)))"
      ],
      "metadata": {
        "colab": {
          "base_uri": "https://localhost:8080/"
        },
        "id": "Dtc00qptqtwM",
        "outputId": "b9a08a8c-7596-4505-fb79-33bcc872019e"
      },
      "execution_count": 91,
      "outputs": [
        {
          "output_type": "stream",
          "name": "stdout",
          "text": [
            "66.67 % of the training points classified correctly\n"
          ]
        }
      ]
    },
    {
      "cell_type": "code",
      "source": [
        "fig, axs = plt.subplots(10, 3, figsize = (9, 50))\n",
        "for idx, imgObj in enumerate(testImg):\n",
        "    testPoints = imgObj.makePointsDataset()\n",
        "    axs[idx][0].imshow(imgObj.showImage())\n",
        "    axs[idx][1].imshow(imgObj.showFingers())\n",
        "\n",
        "    coors = []\n",
        "    for point in testPoints:\n",
        "        if clf.predict([point.data()])[0]:\n",
        "            coors.append(point.getCoors())\n",
        "    clusters = predObj.findClusterCoors(np.array(coors))\n",
        "#     clusters = sorted(clusters, key = lambda c : len(c))\n",
        "#     clusters = clusters[::-1]\n",
        "#     clusters = clusters[:5]\n",
        "    img = imgObj.showImage()\n",
        "    COLS = [\"green\", \"red\", \"blue\", \"yellow\", \"orange\", \"pink\"]\n",
        "    for idx2, c in enumerate(clusters):\n",
        "#         pass\n",
        "        highlightPoints(img, c, COLS[idx2%6])\n",
        "    axs[idx][2].imshow(img)\n",
        "    if predObj.predictNumFingers(coors) == imgObj.numFingers:\n",
        "        print(\"Predicted correctly for idx : {}, the number: {}\".format(imgObj.idx, imgObj.numFingers))\n",
        "    else:\n",
        "        print(\"Predicted incorrectly for idx : {}, the number: {}\".format(imgObj.idx, imgObj.numFingers))\n",
        "#     print(\"Num clusters seen: {}\".format(len(clusters)))"
      ],
      "metadata": {
        "colab": {
          "base_uri": "https://localhost:8080/",
          "height": 1000
        },
        "id": "igOqMu3UqmLq",
        "outputId": "a7826eeb-5871-4611-9743-ec408fd39422"
      },
      "execution_count": 92,
      "outputs": [
        {
          "output_type": "display_data",
          "data": {
            "text/plain": [
              "<Figure size 900x5000 with 30 Axes>"
            ],
            "image/png": "[encoded data removed]"
          },
          "metadata": {}
        }
      ]
    },
    {
      "cell_type": "code",
      "source": [
        "from sklearn import tree"
      ],
      "metadata": {
        "id": "st-tj6l5q9Rb"
      },
      "execution_count": 93,
      "outputs": []
    },
    {
      "cell_type": "code",
      "source": [
        "from sklearn import tree\n",
        "import matplotlib.pyplot as plt\n",
        "import numpy as np\n",
        "\n",
        "# Assuming 'dat' is a list of dictionaries\n",
        "# Assuming 'fingersFromPoints' is a function\n",
        "# Assuming 'ImgDat' is a class with 'numFingers' and 'fingerPoints' attributes\n",
        "\n",
        "def makePointsDataset(data):\n",
        "    \"\"\"\n",
        "    Extracts finger points data from the dictionary.\n",
        "\n",
        "    Args:\n",
        "        data: The dictionary containing the image and related data.\n",
        "\n",
        "    Returns:\n",
        "        A list of tuples representing the finger points.\n",
        "    \"\"\"\n",
        "    try:\n",
        "        box = data.get(b\"box\", None)\n",
        "        if box is None:\n",
        "            return None\n",
        "\n",
        "        min_x = min(box[:, 0])\n",
        "        min_y = min(box[:, 1])\n",
        "        return [(y - min_y, x - min_x) for y, x in data.get(b\"allFingerPoints\", [])]\n",
        "    except (KeyError, IndexError, TypeError) as e:\n",
        "        print(f\"Error processing data: {e}\")\n",
        "        return None\n",
        "\n",
        "if len(dat) > 52:\n",
        "    try:\n",
        "        img_data = dat[52]\n",
        "        points = makePointsDataset(img_data)\n",
        "\n",
        "        if points is not None:\n",
        "            # Assuming 'clf' is a trained decision tree classifier\n",
        "            fig, ax = plt.subplots(figsize=(20, 7))\n",
        "            try:\n",
        "                tree.plot_tree(clf, filled=True, ax=ax, impurity=False, proportion=True, rounded=True, fontsize=10)\n",
        "            except InvalidParameterError as e:\n",
        "                print(f\"Error: {e}\")\n",
        "                print(\"Make sure 'clf' is a trained decision tree classifier.\")\n",
        "            plt.show()\n",
        "\n",
        "    except IndexError:\n",
        "        print(\"Index 52 is out of range. The list 'dat' only has\", len(dat), \"elements.\")\n",
        "\n",
        "# Train a decision tree classifier (replace with your training code)\n",
        "# ...\n",
        "\n",
        "# Use the trained decision tree for plotting (replace 'clf' with your trained model)\n",
        "# ..."
      ],
      "metadata": {
        "id": "5T-tgV5xrpok"
      },
      "execution_count": 94,
      "outputs": []
    },
    {
      "cell_type": "code",
      "source": [
        "import numpy as np\n",
        "from PIL import Image, ImageDraw\n",
        "import matplotlib.pyplot as plt\n",
        "\n",
        "# Create a blank 11x11 array of ones\n",
        "Blank = np.ones((11, 11))\n",
        "\n",
        "# Create an image from the array\n",
        "img = Image.fromarray(Blank)\n",
        "img = img.convert(mode=\"RGB\")\n",
        "\n",
        "# Create a drawing object\n",
        "imDraw = ImageDraw.Draw(img)\n",
        "\n",
        "# Define points using modulo and floor division\n",
        "points = [(12 % 11, 12 // 11), (54 % 11, 54 // 11), (60 % 11, 60 // 11)]\n",
        "\n",
        "# Draw points with specified colors\n",
        "for x, y in points:\n",
        "    imDraw.point((x, y), fill=\"red\" if (x, y) != (0, 0) else \"green\")\n",
        "\n",
        "# Display the image\n",
        "plt.imshow(img)\n",
        "plt.show()"
      ],
      "metadata": {
        "colab": {
          "base_uri": "https://localhost:8080/",
          "height": 319
        },
        "id": "UaH1wvD8rzOs",
        "outputId": "7c589ae9-16f2-49b2-a9e0-87d50577907e"
      },
      "execution_count": 95,
      "outputs": [
        {
          "output_type": "display_data",
          "data": {
            "text/plain": [
              "<Figure size 640x480 with 1 Axes>"
            ],
            "image/png": "[encoded data removed]"
          },
          "metadata": {}
        }
      ]
    }
  ]
}